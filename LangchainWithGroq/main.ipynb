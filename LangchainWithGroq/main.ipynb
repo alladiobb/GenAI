{
 "cells": [
  {
   "cell_type": "code",
   "execution_count": null,
   "id": "f3a3ae6c",
   "metadata": {},
   "outputs": [],
   "source": [
    "#Langchain with Groq\n",
    "#install Langchain and Groq: pip install langchain groq\n",
    "#Site to get your Groq API key: https://console.groq.com"
   ]
  },
  {
   "cell_type": "code",
   "execution_count": null,
   "id": "681df5cf",
   "metadata": {},
   "outputs": [],
   "source": [
    "from langchain_groq.chat_models import ChatGroq"
   ]
  }
 ],
 "metadata": {
  "language_info": {
   "name": "python"
  }
 },
 "nbformat": 4,
 "nbformat_minor": 5
}
